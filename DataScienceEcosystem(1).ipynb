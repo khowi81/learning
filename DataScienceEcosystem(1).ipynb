{
 "cells": [
  {
   "cell_type": "markdown",
   "id": "c802a78c",
   "metadata": {},
   "source": [
    "# Data Science Tools and Ecosystems"
   ]
  },
  {
   "cell_type": "markdown",
   "id": "ba37b652",
   "metadata": {},
   "source": [
    "In this notebook, Data Science Tools and Ecosystems are summarized"
   ]
  },
  {
   "cell_type": "markdown",
   "id": "0c00a650",
   "metadata": {},
   "source": [
    "**Objectives**\n",
    "-  List popular languages for Data Science\n",
    "-  List commonly used libraries used by Data Scientists\n",
    "-  Name tools used by data scientists\n",
    "-  Perform arithmetic in Code Cells \n"
   ]
  },
  {
   "cell_type": "markdown",
   "id": "6d716d8c",
   "metadata": {},
   "source": [
    "## Some of the popular languages that Data Scientists use are: \n",
    "    1. Python\n",
    "    2. R\n",
    "    3. SQL "
   ]
  },
  {
   "cell_type": "markdown",
   "id": "6d100330",
   "metadata": {},
   "source": [
    "## Some of the commonly used libraries used by Data Scientists include: \n",
    "    1. Numpy\n",
    "    2. Keras\n",
    "    3. Pandas\n",
    " \n",
    "    "
   ]
  },
  {
   "cell_type": "markdown",
   "id": "4e1678e4",
   "metadata": {},
   "source": [
    "| Data Science Tools| \n",
    "|---|---|---|\n",
    "| Keras | \n",
    "| Pytorch |\n",
    "| Tableau |\n"
   ]
  },
  {
   "cell_type": "markdown",
   "id": "6b1a54ca",
   "metadata": {},
   "source": [
    "### Below are a few examples of evaluating arithmetic expressions in Python"
   ]
  },
  {
   "cell_type": "code",
   "execution_count": 1,
   "id": "ee2ec95f",
   "metadata": {},
   "outputs": [
    {
     "data": {
      "text/plain": [
       "17"
      ]
     },
     "execution_count": 1,
     "metadata": {},
     "output_type": "execute_result"
    }
   ],
   "source": [
    "# this is a simple arithmetic expression to multiply then add integers\n",
    "(3*4)+5\n"
   ]
  },
  {
   "cell_type": "code",
   "execution_count": 2,
   "id": "22788d72",
   "metadata": {},
   "outputs": [
    {
     "data": {
      "text/plain": [
       "3.3333333333333335"
      ]
     },
     "execution_count": 2,
     "metadata": {},
     "output_type": "execute_result"
    }
   ],
   "source": [
    "# this will convert 200 minutes to hours by dividing by 60\n",
    "200/60\n"
   ]
  },
  {
   "cell_type": "markdown",
   "id": "38561024",
   "metadata": {},
   "source": [
    "## Author: \n",
    "kasema howard"
   ]
  },
  {
   "cell_type": "code",
   "execution_count": null,
   "id": "a55b57e6",
   "metadata": {},
   "outputs": [],
   "source": []
  }
 ],
 "metadata": {
  "kernelspec": {
   "display_name": "Python 3 (ipykernel)",
   "language": "python",
   "name": "python3"
  },
  "language_info": {
   "codemirror_mode": {
    "name": "ipython",
    "version": 3
   },
   "file_extension": ".py",
   "mimetype": "text/x-python",
   "name": "python",
   "nbconvert_exporter": "python",
   "pygments_lexer": "ipython3",
   "version": "3.11.5"
  }
 },
 "nbformat": 4,
 "nbformat_minor": 5
}
